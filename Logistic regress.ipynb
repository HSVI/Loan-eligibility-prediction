{
 "cells": [
  {
   "cell_type": "markdown",
   "id": "6fe52cab-9755-4e58-b292-8d73d48e4654",
   "metadata": {
    "jp-MarkdownHeadingCollapsed": true
   },
   "source": [
    "# Importing libraries"
   ]
  },
  {
   "cell_type": "code",
   "execution_count": 1033,
   "id": "73903f50-1aa0-41ee-a9bd-a247d160a75b",
   "metadata": {
    "jupyter": {
     "source_hidden": true
    }
   },
   "outputs": [],
   "source": [
    "import pandas as pd\n",
    "import numpy as np\n",
    "import matplotlib.pyplot as plt"
   ]
  },
  {
   "cell_type": "markdown",
   "id": "1d56b405-4f62-4b0d-b01d-9215577e19ec",
   "metadata": {
    "jp-MarkdownHeadingCollapsed": true
   },
   "source": [
    "# Reading data"
   ]
  },
  {
   "cell_type": "code",
   "execution_count": 1034,
   "id": "2f09e5ed-2aa7-44f7-835f-f1d29f7a1558",
   "metadata": {
    "jupyter": {
     "source_hidden": true
    }
   },
   "outputs": [
    {
     "data": {
      "text/plain": [
       "(614, 13)"
      ]
     },
     "execution_count": 1034,
     "metadata": {},
     "output_type": "execute_result"
    }
   ],
   "source": [
    "df = pd.read_csv(\"Loan_Data.csv\")\n",
    "df.shape"
   ]
  },
  {
   "cell_type": "code",
   "execution_count": 1035,
   "id": "f3739608-3de4-4206-844c-f5c72ea531ed",
   "metadata": {
    "jupyter": {
     "source_hidden": true
    }
   },
   "outputs": [
    {
     "data": {
      "text/html": [
       "<div>\n",
       "<style scoped>\n",
       "    .dataframe tbody tr th:only-of-type {\n",
       "        vertical-align: middle;\n",
       "    }\n",
       "\n",
       "    .dataframe tbody tr th {\n",
       "        vertical-align: top;\n",
       "    }\n",
       "\n",
       "    .dataframe thead th {\n",
       "        text-align: right;\n",
       "    }\n",
       "</style>\n",
       "<table border=\"1\" class=\"dataframe\">\n",
       "  <thead>\n",
       "    <tr style=\"text-align: right;\">\n",
       "      <th></th>\n",
       "      <th>Loan_ID</th>\n",
       "      <th>Gender</th>\n",
       "      <th>Married</th>\n",
       "      <th>Dependents</th>\n",
       "      <th>Education</th>\n",
       "      <th>Self_Employed</th>\n",
       "      <th>ApplicantIncome</th>\n",
       "      <th>CoapplicantIncome</th>\n",
       "      <th>LoanAmount</th>\n",
       "      <th>Loan_Amount_Term</th>\n",
       "      <th>Credit_History</th>\n",
       "      <th>Property_Area</th>\n",
       "      <th>Loan_Status</th>\n",
       "    </tr>\n",
       "  </thead>\n",
       "  <tbody>\n",
       "    <tr>\n",
       "      <th>0</th>\n",
       "      <td>LP001002</td>\n",
       "      <td>Male</td>\n",
       "      <td>No</td>\n",
       "      <td>0</td>\n",
       "      <td>Graduate</td>\n",
       "      <td>No</td>\n",
       "      <td>5849</td>\n",
       "      <td>0.0</td>\n",
       "      <td>NaN</td>\n",
       "      <td>360.0</td>\n",
       "      <td>1.0</td>\n",
       "      <td>Urban</td>\n",
       "      <td>Y</td>\n",
       "    </tr>\n",
       "    <tr>\n",
       "      <th>1</th>\n",
       "      <td>LP001003</td>\n",
       "      <td>Male</td>\n",
       "      <td>Yes</td>\n",
       "      <td>1</td>\n",
       "      <td>Graduate</td>\n",
       "      <td>No</td>\n",
       "      <td>4583</td>\n",
       "      <td>1508.0</td>\n",
       "      <td>128.0</td>\n",
       "      <td>360.0</td>\n",
       "      <td>1.0</td>\n",
       "      <td>Rural</td>\n",
       "      <td>N</td>\n",
       "    </tr>\n",
       "  </tbody>\n",
       "</table>\n",
       "</div>"
      ],
      "text/plain": [
       "    Loan_ID Gender Married Dependents Education Self_Employed  \\\n",
       "0  LP001002   Male      No          0  Graduate            No   \n",
       "1  LP001003   Male     Yes          1  Graduate            No   \n",
       "\n",
       "   ApplicantIncome  CoapplicantIncome  LoanAmount  Loan_Amount_Term  \\\n",
       "0             5849                0.0         NaN             360.0   \n",
       "1             4583             1508.0       128.0             360.0   \n",
       "\n",
       "   Credit_History Property_Area Loan_Status  \n",
       "0             1.0         Urban           Y  \n",
       "1             1.0         Rural           N  "
      ]
     },
     "execution_count": 1035,
     "metadata": {},
     "output_type": "execute_result"
    }
   ],
   "source": [
    "df.head(2)"
   ]
  },
  {
   "cell_type": "markdown",
   "id": "ad0ffe05-e62c-44e9-93b9-11ffe2a287d3",
   "metadata": {
    "jp-MarkdownHeadingCollapsed": true
   },
   "source": [
    "# Removing unused data"
   ]
  },
  {
   "cell_type": "code",
   "execution_count": 1036,
   "id": "16f7fa5b-4e8e-4ccc-b91c-78d2eceb49f0",
   "metadata": {
    "jupyter": {
     "source_hidden": true
    }
   },
   "outputs": [],
   "source": [
    "df = df.drop(\"Loan_ID\", axis=1)"
   ]
  },
  {
   "cell_type": "markdown",
   "id": "64f465f1-e881-4551-a86b-576cf2b10cac",
   "metadata": {
    "jp-MarkdownHeadingCollapsed": true
   },
   "source": [
    "# Setting the status as index"
   ]
  },
  {
   "cell_type": "code",
   "execution_count": 1037,
   "id": "a0f52c41-9cd8-4a81-ab84-b5808d940458",
   "metadata": {
    "jupyter": {
     "source_hidden": true
    }
   },
   "outputs": [],
   "source": [
    "df = df.set_index(\"Loan_Status\")"
   ]
  },
  {
   "cell_type": "markdown",
   "id": "749fcb27-de33-42f3-84ba-d4f04d001151",
   "metadata": {
    "jp-MarkdownHeadingCollapsed": true
   },
   "source": [
    "# Applying One Hot Encoding"
   ]
  },
  {
   "cell_type": "code",
   "execution_count": 1038,
   "id": "85f4964f-8cae-4eaa-a2ff-39c34fb8e0e1",
   "metadata": {
    "jupyter": {
     "source_hidden": true
    }
   },
   "outputs": [],
   "source": [
    "df1 = pd.get_dummies(df[[\"Property_Area\", \"Dependents\"]])\n",
    "df = pd.concat([df, df1], axis=1)\n",
    "df.drop([\"Dependents\", \"Property_Area\"], axis=1, inplace=True)"
   ]
  },
  {
   "cell_type": "markdown",
   "id": "89f40a5e-a51c-481f-9b1e-d4ff408d186f",
   "metadata": {
    "jp-MarkdownHeadingCollapsed": true
   },
   "source": [
    "## Boolean to Binary convertion"
   ]
  },
  {
   "cell_type": "code",
   "execution_count": 1039,
   "id": "98eb8694-2ec8-4565-9c21-c63cf1826315",
   "metadata": {
    "jupyter": {
     "source_hidden": true
    }
   },
   "outputs": [],
   "source": [
    "boolean_columns = df.select_dtypes(include=['bool']).columns\n",
    "df[boolean_columns] = df[boolean_columns].astype(int)"
   ]
  },
  {
   "cell_type": "markdown",
   "id": "ca7cd71c-2aed-401f-8046-fa657ccc21c1",
   "metadata": {
    "jp-MarkdownHeadingCollapsed": true
   },
   "source": [
    "## Yes-No to Binary"
   ]
  },
  {
   "cell_type": "code",
   "execution_count": 1040,
   "id": "7f2b93b9-8730-4da1-b44f-520b55bf94c7",
   "metadata": {
    "jupyter": {
     "source_hidden": true
    }
   },
   "outputs": [
    {
     "name": "stderr",
     "output_type": "stream",
     "text": [
      "C:\\Users\\Haitham\\AppData\\Local\\Temp\\ipykernel_12632\\3460672002.py:1: FutureWarning: Downcasting behavior in `replace` is deprecated and will be removed in a future version. To retain the old behavior, explicitly call `result.infer_objects(copy=False)`. To opt-in to the future behavior, set `pd.set_option('future.no_silent_downcasting', True)`\n",
      "  df[\"Gender\"] = df[\"Gender\"].replace({\"Male\": 1, \"Female\": 0})\n",
      "C:\\Users\\Haitham\\AppData\\Local\\Temp\\ipykernel_12632\\3460672002.py:2: FutureWarning: Downcasting behavior in `replace` is deprecated and will be removed in a future version. To retain the old behavior, explicitly call `result.infer_objects(copy=False)`. To opt-in to the future behavior, set `pd.set_option('future.no_silent_downcasting', True)`\n",
      "  df[\"Married\"] = df[\"Married\"].replace({\"Yes\": 1, \"No\": 0})\n",
      "C:\\Users\\Haitham\\AppData\\Local\\Temp\\ipykernel_12632\\3460672002.py:3: FutureWarning: Downcasting behavior in `replace` is deprecated and will be removed in a future version. To retain the old behavior, explicitly call `result.infer_objects(copy=False)`. To opt-in to the future behavior, set `pd.set_option('future.no_silent_downcasting', True)`\n",
      "  df[\"Education\"] = df[\"Education\"].replace({\"Graduate\": 1, \"Not Graduate\": 0})\n",
      "C:\\Users\\Haitham\\AppData\\Local\\Temp\\ipykernel_12632\\3460672002.py:4: FutureWarning: Downcasting behavior in `replace` is deprecated and will be removed in a future version. To retain the old behavior, explicitly call `result.infer_objects(copy=False)`. To opt-in to the future behavior, set `pd.set_option('future.no_silent_downcasting', True)`\n",
      "  df[\"Self_Employed\"] = df[\"Self_Employed\"].replace({\"Yes\": 1, \"No\": 0})\n"
     ]
    },
    {
     "data": {
      "text/html": [
       "<div>\n",
       "<style scoped>\n",
       "    .dataframe tbody tr th:only-of-type {\n",
       "        vertical-align: middle;\n",
       "    }\n",
       "\n",
       "    .dataframe tbody tr th {\n",
       "        vertical-align: top;\n",
       "    }\n",
       "\n",
       "    .dataframe thead th {\n",
       "        text-align: right;\n",
       "    }\n",
       "</style>\n",
       "<table border=\"1\" class=\"dataframe\">\n",
       "  <thead>\n",
       "    <tr style=\"text-align: right;\">\n",
       "      <th></th>\n",
       "      <th>Gender</th>\n",
       "      <th>Married</th>\n",
       "      <th>Education</th>\n",
       "      <th>Self_Employed</th>\n",
       "      <th>ApplicantIncome</th>\n",
       "      <th>CoapplicantIncome</th>\n",
       "      <th>LoanAmount</th>\n",
       "      <th>Loan_Amount_Term</th>\n",
       "      <th>Credit_History</th>\n",
       "      <th>Property_Area_Rural</th>\n",
       "      <th>Property_Area_Semiurban</th>\n",
       "      <th>Property_Area_Urban</th>\n",
       "      <th>Dependents_0</th>\n",
       "      <th>Dependents_1</th>\n",
       "      <th>Dependents_2</th>\n",
       "      <th>Dependents_3+</th>\n",
       "    </tr>\n",
       "    <tr>\n",
       "      <th>Loan_Status</th>\n",
       "      <th></th>\n",
       "      <th></th>\n",
       "      <th></th>\n",
       "      <th></th>\n",
       "      <th></th>\n",
       "      <th></th>\n",
       "      <th></th>\n",
       "      <th></th>\n",
       "      <th></th>\n",
       "      <th></th>\n",
       "      <th></th>\n",
       "      <th></th>\n",
       "      <th></th>\n",
       "      <th></th>\n",
       "      <th></th>\n",
       "      <th></th>\n",
       "    </tr>\n",
       "  </thead>\n",
       "  <tbody>\n",
       "    <tr>\n",
       "      <th>Y</th>\n",
       "      <td>1.0</td>\n",
       "      <td>0.0</td>\n",
       "      <td>1</td>\n",
       "      <td>0.0</td>\n",
       "      <td>5849</td>\n",
       "      <td>0.0</td>\n",
       "      <td>NaN</td>\n",
       "      <td>360.0</td>\n",
       "      <td>1.0</td>\n",
       "      <td>0</td>\n",
       "      <td>0</td>\n",
       "      <td>1</td>\n",
       "      <td>1</td>\n",
       "      <td>0</td>\n",
       "      <td>0</td>\n",
       "      <td>0</td>\n",
       "    </tr>\n",
       "    <tr>\n",
       "      <th>N</th>\n",
       "      <td>1.0</td>\n",
       "      <td>1.0</td>\n",
       "      <td>1</td>\n",
       "      <td>0.0</td>\n",
       "      <td>4583</td>\n",
       "      <td>1508.0</td>\n",
       "      <td>128.0</td>\n",
       "      <td>360.0</td>\n",
       "      <td>1.0</td>\n",
       "      <td>1</td>\n",
       "      <td>0</td>\n",
       "      <td>0</td>\n",
       "      <td>0</td>\n",
       "      <td>1</td>\n",
       "      <td>0</td>\n",
       "      <td>0</td>\n",
       "    </tr>\n",
       "  </tbody>\n",
       "</table>\n",
       "</div>"
      ],
      "text/plain": [
       "             Gender  Married  Education  Self_Employed  ApplicantIncome  \\\n",
       "Loan_Status                                                               \n",
       "Y               1.0      0.0          1            0.0             5849   \n",
       "N               1.0      1.0          1            0.0             4583   \n",
       "\n",
       "             CoapplicantIncome  LoanAmount  Loan_Amount_Term  Credit_History  \\\n",
       "Loan_Status                                                                    \n",
       "Y                          0.0         NaN             360.0             1.0   \n",
       "N                       1508.0       128.0             360.0             1.0   \n",
       "\n",
       "             Property_Area_Rural  Property_Area_Semiurban  \\\n",
       "Loan_Status                                                 \n",
       "Y                              0                        0   \n",
       "N                              1                        0   \n",
       "\n",
       "             Property_Area_Urban  Dependents_0  Dependents_1  Dependents_2  \\\n",
       "Loan_Status                                                                  \n",
       "Y                              1             1             0             0   \n",
       "N                              0             0             1             0   \n",
       "\n",
       "             Dependents_3+  \n",
       "Loan_Status                 \n",
       "Y                        0  \n",
       "N                        0  "
      ]
     },
     "execution_count": 1040,
     "metadata": {},
     "output_type": "execute_result"
    }
   ],
   "source": [
    "df[\"Gender\"] = df[\"Gender\"].replace({\"Male\": 1, \"Female\": 0})\n",
    "df[\"Married\"] = df[\"Married\"].replace({\"Yes\": 1, \"No\": 0})\n",
    "df[\"Education\"] = df[\"Education\"].replace({\"Graduate\": 1, \"Not Graduate\": 0})\n",
    "df[\"Self_Employed\"] = df[\"Self_Employed\"].replace({\"Yes\": 1, \"No\": 0})\n",
    "df.head(2)"
   ]
  },
  {
   "cell_type": "markdown",
   "id": "ee8e67eb-7b25-48c6-89fa-983ae6be14e7",
   "metadata": {
    "jp-MarkdownHeadingCollapsed": true
   },
   "source": [
    "# Filling missing entries"
   ]
  },
  {
   "cell_type": "code",
   "execution_count": 1041,
   "id": "c0ae83d9-f131-4361-a71b-26045897794f",
   "metadata": {
    "jupyter": {
     "source_hidden": true
    }
   },
   "outputs": [],
   "source": [
    "df = df.fillna(0)"
   ]
  },
  {
   "cell_type": "markdown",
   "id": "f50086dd-c0e6-4df2-a490-426103529dc0",
   "metadata": {
    "jp-MarkdownHeadingCollapsed": true
   },
   "source": [
    "# Storing max values for late scaling"
   ]
  },
  {
   "cell_type": "code",
   "execution_count": 1042,
   "id": "b94e5fa7-d630-4a78-9d55-700d5506c2d1",
   "metadata": {},
   "outputs": [],
   "source": [
    "ApplicantIncome_max = df[\"ApplicantIncome\"].max()\n",
    "CoapplicantIncome_max = df[\"CoapplicantIncome\"].max()\n",
    "LoanAmount_max = df[\"LoanAmount\"].max()\n",
    "Loan_Amount_Term_max = df[\"Loan_Amount_Term\"].max()"
   ]
  },
  {
   "cell_type": "markdown",
   "id": "18047b98-3dca-4320-a5b1-250fa44eb083",
   "metadata": {
    "jp-MarkdownHeadingCollapsed": true
   },
   "source": [
    "# Scaling data"
   ]
  },
  {
   "cell_type": "code",
   "execution_count": 1043,
   "id": "d26664a1-e680-47e6-8804-7301c15cdb06",
   "metadata": {},
   "outputs": [
    {
     "data": {
      "text/html": [
       "<div>\n",
       "<style scoped>\n",
       "    .dataframe tbody tr th:only-of-type {\n",
       "        vertical-align: middle;\n",
       "    }\n",
       "\n",
       "    .dataframe tbody tr th {\n",
       "        vertical-align: top;\n",
       "    }\n",
       "\n",
       "    .dataframe thead th {\n",
       "        text-align: right;\n",
       "    }\n",
       "</style>\n",
       "<table border=\"1\" class=\"dataframe\">\n",
       "  <thead>\n",
       "    <tr style=\"text-align: right;\">\n",
       "      <th></th>\n",
       "      <th>Gender</th>\n",
       "      <th>Married</th>\n",
       "      <th>Education</th>\n",
       "      <th>Self_Employed</th>\n",
       "      <th>ApplicantIncome</th>\n",
       "      <th>CoapplicantIncome</th>\n",
       "      <th>LoanAmount</th>\n",
       "      <th>Loan_Amount_Term</th>\n",
       "      <th>Credit_History</th>\n",
       "      <th>Property_Area_Rural</th>\n",
       "      <th>Property_Area_Semiurban</th>\n",
       "      <th>Property_Area_Urban</th>\n",
       "      <th>Dependents_0</th>\n",
       "      <th>Dependents_1</th>\n",
       "      <th>Dependents_2</th>\n",
       "      <th>Dependents_3+</th>\n",
       "    </tr>\n",
       "    <tr>\n",
       "      <th>Loan_Status</th>\n",
       "      <th></th>\n",
       "      <th></th>\n",
       "      <th></th>\n",
       "      <th></th>\n",
       "      <th></th>\n",
       "      <th></th>\n",
       "      <th></th>\n",
       "      <th></th>\n",
       "      <th></th>\n",
       "      <th></th>\n",
       "      <th></th>\n",
       "      <th></th>\n",
       "      <th></th>\n",
       "      <th></th>\n",
       "      <th></th>\n",
       "      <th></th>\n",
       "    </tr>\n",
       "  </thead>\n",
       "  <tbody>\n",
       "    <tr>\n",
       "      <th>Y</th>\n",
       "      <td>1.0</td>\n",
       "      <td>0.0</td>\n",
       "      <td>1.0</td>\n",
       "      <td>0.0</td>\n",
       "      <td>0.07221</td>\n",
       "      <td>0.0</td>\n",
       "      <td>0.0</td>\n",
       "      <td>0.75</td>\n",
       "      <td>1.0</td>\n",
       "      <td>0.0</td>\n",
       "      <td>0.0</td>\n",
       "      <td>1.0</td>\n",
       "      <td>1.0</td>\n",
       "      <td>0.0</td>\n",
       "      <td>0.0</td>\n",
       "      <td>0.0</td>\n",
       "    </tr>\n",
       "  </tbody>\n",
       "</table>\n",
       "</div>"
      ],
      "text/plain": [
       "             Gender  Married  Education  Self_Employed  ApplicantIncome  \\\n",
       "Loan_Status                                                               \n",
       "Y               1.0      0.0        1.0            0.0          0.07221   \n",
       "\n",
       "             CoapplicantIncome  LoanAmount  Loan_Amount_Term  Credit_History  \\\n",
       "Loan_Status                                                                    \n",
       "Y                          0.0         0.0              0.75             1.0   \n",
       "\n",
       "             Property_Area_Rural  Property_Area_Semiurban  \\\n",
       "Loan_Status                                                 \n",
       "Y                            0.0                      0.0   \n",
       "\n",
       "             Property_Area_Urban  Dependents_0  Dependents_1  Dependents_2  \\\n",
       "Loan_Status                                                                  \n",
       "Y                            1.0           1.0           0.0           0.0   \n",
       "\n",
       "             Dependents_3+  \n",
       "Loan_Status                 \n",
       "Y                      0.0  "
      ]
     },
     "execution_count": 1043,
     "metadata": {},
     "output_type": "execute_result"
    }
   ],
   "source": [
    "df = df.div(df.max())\n",
    "df.head(1)"
   ]
  },
  {
   "cell_type": "markdown",
   "id": "7f14481c-210e-49b1-8780-d77aadd11b64",
   "metadata": {
    "jp-MarkdownHeadingCollapsed": true
   },
   "source": [
    "# Converting data to array"
   ]
  },
  {
   "cell_type": "code",
   "execution_count": 1044,
   "id": "2cc68e23-acd9-4ebb-8610-71a252651f6c",
   "metadata": {},
   "outputs": [],
   "source": [
    "# Data to array (excluding index)\n",
    "X = df.to_numpy()\n",
    "\n",
    "# Index to array\n",
    "y = df.index.to_numpy()\n",
    "\n",
    "# converting Y to 1 and N to 0\n",
    "y = np.where(y == \"Y\", 1, 0)"
   ]
  },
  {
   "cell_type": "markdown",
   "id": "825356a2-88a4-40a7-b9ed-5f1a29079f8d",
   "metadata": {
    "jp-MarkdownHeadingCollapsed": true
   },
   "source": [
    "# shape of the data"
   ]
  },
  {
   "cell_type": "code",
   "execution_count": 1045,
   "id": "cd659f52-1aa8-41d9-b337-7bb517055b4c",
   "metadata": {
    "jupyter": {
     "source_hidden": true
    }
   },
   "outputs": [],
   "source": [
    "# m is the number of examples\n",
    "m = X.shape[0]\n",
    "\n",
    "# n is the number of features\n",
    "n = X.shape[1]"
   ]
  },
  {
   "cell_type": "markdown",
   "id": "566fe893-8522-498a-bd39-559459ef9fce",
   "metadata": {
    "jp-MarkdownHeadingCollapsed": true
   },
   "source": [
    "# Defining the model"
   ]
  },
  {
   "cell_type": "code",
   "execution_count": 1046,
   "id": "25c6adc2-39e4-4bf8-8e0a-541463732026",
   "metadata": {},
   "outputs": [],
   "source": [
    "# This represents the sigmoid function, \n",
    "# where z is the normal linear regression function and is the input here\n",
    "\n",
    "def sigmoid(z):\n",
    "\n",
    "    fx = 1/(1+np.exp(-z))\n",
    "    return fx"
   ]
  },
  {
   "cell_type": "code",
   "execution_count": 1047,
   "id": "071d2646-6eda-46ba-9673-048ee6b142d7",
   "metadata": {},
   "outputs": [],
   "source": [
    "w = np.zeros(n)\n",
    "b = 0."
   ]
  },
  {
   "cell_type": "markdown",
   "id": "327627d6-e836-4241-ab8b-1b161b2025dc",
   "metadata": {
    "jp-MarkdownHeadingCollapsed": true
   },
   "source": [
    "# Cost function"
   ]
  },
  {
   "cell_type": "code",
   "execution_count": 1048,
   "id": "38260c30-da55-43f1-be72-32f2d5276ad7",
   "metadata": {},
   "outputs": [],
   "source": [
    "def cost_function(X, y, w, b, lambda_):\n",
    "\n",
    "    total_cost = 0\n",
    "    for i in range(m):\n",
    "        h = sigmoid(np.dot(X[i], w) + b)\n",
    "        total_cost += y[i] * np.log(h) + (1 - y[i]) * np.log(1 - h)\n",
    "    return -total_cost / m\n",
    "\n",
    "    u = 0\n",
    "    for j in range(n):\n",
    "        u += w[j]**2\n",
    "    \n",
    "    reg = u*(lambda_/2*m)\n",
    "\n",
    "    total_cost += reg\n",
    "    \n",
    "    return total_cost"
   ]
  },
  {
   "cell_type": "markdown",
   "id": "06ed3bf9-a12e-4756-bbb4-53e933622d94",
   "metadata": {
    "jp-MarkdownHeadingCollapsed": true
   },
   "source": [
    "# Gradient Descent"
   ]
  },
  {
   "cell_type": "code",
   "execution_count": 1049,
   "id": "17433e40-3ceb-4a68-bcac-ca1338925b4a",
   "metadata": {},
   "outputs": [],
   "source": [
    "def gradient(X, y, w, b): \n",
    "\n",
    "    dj_dw = np.zeros(n)\n",
    "    dj_db = 0\n",
    "\n",
    "    \n",
    "    for i in range(m):\n",
    "        h = sigmoid(np.dot(X[i], w) + b)\n",
    "        dj_db += h - y[i]\n",
    "        \n",
    "        for j in range(n):\n",
    "            dj_dw[j] += (h - y[i]) * X[i,j]\n",
    "    \n",
    "    \n",
    "    dj_dw /= m\n",
    "    dj_db /= m\n",
    "    \n",
    "    return dj_dw, dj_db "
   ]
  },
  {
   "cell_type": "code",
   "execution_count": 1050,
   "id": "5102363d-9240-4eec-8473-94ebce477cbd",
   "metadata": {},
   "outputs": [],
   "source": [
    "def gardient_descent(X, y, w, b, a, num_iters, lambda_):\n",
    "\n",
    "    j_plot = []\n",
    "    i_plot = []\n",
    "    dj_dw = np.zeros(n)\n",
    "    dj_db = 0.\n",
    "\n",
    "    for i in range(num_iters):\n",
    "        dj_dw, dj_db = gradient(X, y, w, b)\n",
    "\n",
    "        w_temp = np.copy(w)  # Create a copy of w to store the updated weights\n",
    "\n",
    "        for j in range(n):\n",
    "            w_temp[j] -= a * (dj_dw[j]+(lambda_ / m * w[j]))  # Update each weight individually\n",
    "\n",
    "        b = b - a * dj_db  # Update bias\n",
    "\n",
    "        w = w_temp  # Assign the updated weights back to w\n",
    "\n",
    "\n",
    "        \n",
    "        cost = cost_function(X, y, w, b, lambda_)\n",
    "\n",
    "        \n",
    "        j_plot.append(cost)\n",
    "        i_plot.append(i)\n",
    "\n",
    "        #print(f\"Iteration: {i}, Cost: {cost}, w: {w}, b: {b}\")\n",
    "        \n",
    "        plt.plot(i_plot, j_plot)\n",
    "        plt.title(\"Learning Curve\")\n",
    "        plt.xlabel(\"Iterations\")\n",
    "        plt.ylabel(\"Error\")\n",
    "\n",
    "    return w, b, j_plot, i_plot"
   ]
  },
  {
   "cell_type": "code",
   "execution_count": 1051,
   "id": "ff519235-a449-47c4-955e-2fb87de04665",
   "metadata": {},
   "outputs": [
    {
     "data": {
      "image/png": "[encoded data removed]",
      "text/plain": [
       "<Figure size 640x480 with 1 Axes>"
      ]
     },
     "metadata": {},
     "output_type": "display_data"
    }
   ],
   "source": [
    "a = 2\n",
    "num_iters = 80\n",
    "lambda_ = 6\n",
    "\n",
    "w, b, j_plot, i_plot = gardient_descent(X, y, w, b, a, num_iters, lambda_)"
   ]
  },
  {
   "cell_type": "code",
   "execution_count": 1052,
   "id": "13e2a7b5-0f4a-4f97-9ff2-c35a2ce10f32",
   "metadata": {},
   "outputs": [
    {
     "name": "stdout",
     "output_type": "stream",
     "text": [
      "The model is: 77.2% accurate\n"
     ]
    }
   ],
   "source": [
    "our_m = sigmoid(np.dot(X, w) + b)\n",
    "our_m_binary = np.empty((m), dtype=object)\n",
    "\n",
    "for i in range(m):\n",
    "    if our_m[i] >= 0.5:\n",
    "        our_m_binary[i] = 1\n",
    "    else:\n",
    "        our_m_binary[i] = 0\n",
    "\n",
    "\n",
    "\n",
    "matching_elements = np.sum(y == our_m_binary)\n",
    "\n",
    "# Calculate the percentage of accuracy\n",
    "percentage_equality = (matching_elements / y.size) * 100\n",
    "\n",
    "print(f\"The model is: {percentage_equality.round(2)}% accurate\")"
   ]
  },
  {
   "cell_type": "markdown",
   "id": "7a60c007-b7e4-4af5-9546-336fbb70d11d",
   "metadata": {
    "jp-MarkdownHeadingCollapsed": true
   },
   "source": [
    "# Prediction mechanism"
   ]
  },
  {
   "cell_type": "code",
   "execution_count": 1053,
   "id": "ed948d87-789b-49a6-a0c9-2e3e491d1f72",
   "metadata": {},
   "outputs": [],
   "source": [
    "def prediction():    \n",
    "    X_pred = np.zeros(n)\n",
    "    \n",
    "    Gender_input = int(input(\"\"\"Enter your Gender:\n",
    "        \n",
    "        Male = 1\n",
    "        Female = 0\n",
    "    \"\"\"))\n",
    "    X_pred[0] = Gender_input\n",
    "    \n",
    "    \n",
    "    Married_input = int(input(\"\"\"Enter your Martial Status:\n",
    "        \n",
    "        Married = 1\n",
    "        Not Married = 0\n",
    "    \"\"\"))\n",
    "    X_pred[1] = Married_input\n",
    "    \n",
    "    \n",
    "    Education_input = int(input(\"\"\"Enter your Education level: \n",
    "        \n",
    "        Graduate = 1\n",
    "        Not Graduate = 0\n",
    "    \"\"\"))\n",
    "    X_pred[2] = Education_input\n",
    "    \n",
    "    \n",
    "    Employment_input = int(input(\"\"\"Are you self-employed: \n",
    "        \n",
    "        Yes = 1\n",
    "        No = 0\n",
    "    \"\"\"))\n",
    "    X_pred[3] = Employment_input\n",
    "    \n",
    "    \n",
    "    ApplicantIncome_input = int(input(\"\"\"Enter your income amount (monthly): \"\"\"))\n",
    "    ApplicantIncome_input = ApplicantIncome_input / ApplicantIncome_max\n",
    "    X_pred[4] = ApplicantIncome_input\n",
    "    \n",
    "    \n",
    "    CoapplicantIncome_input = int(input(\"\"\"Enter your Coapplicant's income amount (monthly): \"\"\"))\n",
    "    CoapplicantIncome_input = CoapplicantIncome_input / CoapplicantIncome_max\n",
    "    X_pred[5] = CoapplicantIncome_input\n",
    "    \n",
    "    \n",
    "    LoanAmount_input = int(input(\"\"\"Enter your loan amount (in thousands): \"\"\"))\n",
    "    LoanAmount_input = LoanAmount_input / LoanAmount_max\n",
    "    X_pred[6] = LoanAmount_input\n",
    "    \n",
    "    \n",
    "    Loan_Amount_Term_input = int(input(\"\"\"Enter your loan term (in months): \"\"\"))\n",
    "    Loan_Amount_Term_input = Loan_Amount_Term_input / Loan_Amount_Term_max\n",
    "    X_pred[7] = Loan_Amount_Term_input\n",
    "    \n",
    "    \n",
    "    credit_history_input = int(input(\"\"\"Does the credit history meet guidelines: \n",
    "        \n",
    "        Yes = 1\n",
    "        No = 0\n",
    "    \"\"\"))\n",
    "    X_pred[8] = credit_history_input\n",
    "    \n",
    "    \n",
    "    Property_Area_input = int(input(\"\"\"Property Area: \n",
    "        \n",
    "        Rural = 1\n",
    "        Semiurban = 2\n",
    "        Urban = 3\n",
    "    \"\"\"))\n",
    "    \n",
    "    if Property_Area_input == 1:\n",
    "        X_pred[9] = 1\n",
    "        X_pred[10] = 0\n",
    "        X_pred[11] = 0\n",
    "    elif Property_Area_input == 2:\n",
    "        X_pred[9] = 0\n",
    "        X_pred[10] = 1\n",
    "        X_pred[11] = 0\n",
    "    elif Property_Area_input == 3:\n",
    "        X_pred[9] = 0\n",
    "        X_pred[10] = 0\n",
    "        X_pred[11] = 1\n",
    "    else:\n",
    "        print(\"Error: Invalid Property Area input\")\n",
    "    \n",
    "    \n",
    "    Dependents_input = int(input(\"\"\"Number of Dependents: \n",
    "        \n",
    "        None = 0\n",
    "        One = 1\n",
    "        Two = 2\n",
    "        Three or more = 3\n",
    "    \"\"\"))\n",
    "    \n",
    "    if Dependents_input == 0:\n",
    "        X_pred[12] = 1\n",
    "        X_pred[13] = 0\n",
    "        X_pred[14] = 0\n",
    "        X_pred[15] = 0\n",
    "    elif Dependents_input == 1:\n",
    "        X_pred[12] = 0\n",
    "        X_pred[13] = 1\n",
    "        X_pred[14] = 0\n",
    "        X_pred[15] = 0\n",
    "    elif Dependents_input == 2:\n",
    "        X_pred[12] = 0\n",
    "        X_pred[13] = 0\n",
    "        X_pred[14] = 1\n",
    "        X_pred[15] = 0\n",
    "    elif Dependents_input == 3:\n",
    "        X_pred[12] = 0\n",
    "        X_pred[13] = 0\n",
    "        X_pred[14] = 0\n",
    "        X_pred[15] = 1\n",
    "    else:\n",
    "        print(\"Error: Invalid Dependents input\")\n",
    "\n",
    "    p = sigmoid(np.dot(X_pred, w) + b)\n",
    "    \n",
    "    if p >= 0.5:\n",
    "        print(\"Eligable Candidate\")\n",
    "    else:\n",
    "        print(\"Not Eligable\")\n",
    "\n",
    "    print(f\"Eligibility index: {(p*100).round(2)}%\")\n",
    "    \n",
    "    return"
   ]
  },
  {
   "cell_type": "markdown",
   "id": "b743848b-03db-4061-886d-38901c986e0d",
   "metadata": {},
   "source": [
    "# Make predictions"
   ]
  },
  {
   "cell_type": "code",
   "execution_count": 1059,
   "id": "b92aa376-8e54-44ba-aee2-875a2f2d517f",
   "metadata": {},
   "outputs": [
    {
     "name": "stdin",
     "output_type": "stream",
     "text": [
      "Enter your Gender:\n",
      "        \n",
      "        Male = 1\n",
      "        Female = 0\n",
      "     0\n",
      "Enter your Martial Status:\n",
      "        \n",
      "        Married = 1\n",
      "        Not Married = 0\n",
      "     0\n",
      "Enter your Education level: \n",
      "        \n",
      "        Graduate = 1\n",
      "        Not Graduate = 0\n",
      "     1\n",
      "Are you self-employed: \n",
      "        \n",
      "        Yes = 1\n",
      "        No = 0\n",
      "     0\n",
      "Enter your income amount (monthly):  1\n",
      "Enter your Coapplicant's income amount (monthly):  0\n",
      "Enter your loan amount (in thousands):  700\n",
      "Enter your loan term (in months):  1\n",
      "Does the credit history meet guidelines: \n",
      "        \n",
      "        Yes = 1\n",
      "        No = 0\n",
      "     1\n",
      "Property Area: \n",
      "        \n",
      "        Rural = 1\n",
      "        Semiurban = 2\n",
      "        Urban = 3\n",
      "     3\n",
      "Number of Dependents: \n",
      "        \n",
      "        None = 0\n",
      "        One = 1\n",
      "        Two = 2\n",
      "        Three or more = 3\n",
      "     0\n"
     ]
    },
    {
     "name": "stdout",
     "output_type": "stream",
     "text": [
      "Eligable Candidate\n",
      "Eligibility index: 74.71%\n"
     ]
    }
   ],
   "source": [
    "prediction()"
   ]
  },
  {
   "cell_type": "code",
   "execution_count": null,
   "id": "2da6049c-0600-41b5-a3b8-38fde0662134",
   "metadata": {},
   "outputs": [],
   "source": []
  }
 ],
 "metadata": {
  "kernelspec": {
   "display_name": "Python 3 (ipykernel)",
   "language": "python",
   "name": "python3"
  },
  "language_info": {
   "codemirror_mode": {
    "name": "ipython",
    "version": 3
   },
   "file_extension": ".py",
   "mimetype": "text/x-python",
   "name": "python",
   "nbconvert_exporter": "python",
   "pygments_lexer": "ipython3",
   "version": "3.11.5"
  }
 },
 "nbformat": 4,
 "nbformat_minor": 5
}
